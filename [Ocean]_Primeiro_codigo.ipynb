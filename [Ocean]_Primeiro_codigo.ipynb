{
  "nbformat": 4,
  "nbformat_minor": 0,
  "metadata": {
    "colab": {
      "name": "[Ocean] Primeiro-codigo.ipynb",
      "provenance": [],
      "authorship_tag": "ABX9TyPkma06R4RqmjJ3yd+1ems5",
      "include_colab_link": true
    },
    "kernelspec": {
      "name": "python3",
      "display_name": "Python 3"
    },
    "language_info": {
      "name": "python"
    }
  },
  "cells": [
    {
      "cell_type": "markdown",
      "metadata": {
        "id": "view-in-github",
        "colab_type": "text"
      },
      "source": [
        "<a href=\"https://colab.research.google.com/github/davidborges2305/Aula-JavaScript/blob/main/%5BOcean%5D_Primeiro_codigo.ipynb\" target=\"_parent\"><img src=\"https://colab.research.google.com/assets/colab-badge.svg\" alt=\"Open In Colab\"/></a>"
      ]
    },
    {
      "cell_type": "code",
      "execution_count": 1,
      "metadata": {
        "colab": {
          "base_uri": "https://localhost:8080/"
        },
        "id": "Ybm2CQw3ToL6",
        "outputId": "24ca4f0c-ad76-4de8-87fb-a7c76b7f62a3"
      },
      "outputs": [
        {
          "output_type": "stream",
          "name": "stdout",
          "text": [
            "Thu Aug 25 23:43:30 2022\n"
          ]
        }
      ],
      "source": [
        "import time \n",
        "print(time.ctime())"
      ]
    },
    {
      "cell_type": "markdown",
      "source": [
        "#Adicionando Celulas"
      ],
      "metadata": {
        "id": "6F2PiEr_bUYY"
      }
    },
    {
      "cell_type": "code",
      "source": [
        "time.sleep(5)\n",
        "print(time.ctime())"
      ],
      "metadata": {
        "colab": {
          "base_uri": "https://localhost:8080/"
        },
        "id": "-hSX_iMnbkkO",
        "outputId": "cbab347b-6e13-461d-fa75-51db6b0fda8c"
      },
      "execution_count": 2,
      "outputs": [
        {
          "output_type": "stream",
          "name": "stdout",
          "text": [
            "Thu Aug 25 23:56:04 2022\n"
          ]
        }
      ]
    },
    {
      "cell_type": "markdown",
      "source": [
        "\n",
        "\n",
        "```var number1 = float(input(\"Digite o primeiro numero\")\n",
        "# Isto está formatado como código\n",
        "```\n",
        "\n"
      ],
      "metadata": {
        "id": "5ZtW2sInd1tZ"
      }
    },
    {
      "cell_type": "markdown",
      "source": [
        "o"
      ],
      "metadata": {
        "id": "FQeVEClyd0Q1"
      }
    },
    {
      "cell_type": "code",
      "source": [],
      "metadata": {
        "id": "-2A2EXf3f-2K"
      },
      "execution_count": null,
      "outputs": []
    }
  ]
}