{
  "nbformat": 4,
  "nbformat_minor": 0,
  "metadata": {
    "colab": {
      "name": "Coding_tank_886_aula_1.ipynb",
      "provenance": [],
      "include_colab_link": true
    },
    "kernelspec": {
      "name": "python3",
      "display_name": "Python 3"
    },
    "language_info": {
      "name": "python"
    }
  },
  "cells": [
    {
      "cell_type": "markdown",
      "metadata": {
        "id": "view-in-github",
        "colab_type": "text"
      },
      "source": [
        "<a href=\"https://colab.research.google.com/github/davidborges2305/Aula-JavaScript/blob/main/Coding_tank_886_aula_1.ipynb\" target=\"_parent\"><img src=\"https://colab.research.google.com/assets/colab-badge.svg\" alt=\"Open In Colab\"/></a>"
      ]
    },
    {
      "cell_type": "code",
      "execution_count": null,
      "metadata": {
        "colab": {
          "base_uri": "https://localhost:8080/"
        },
        "id": "RYPmJSOh7d6O",
        "outputId": "f29cae56-81d0-46ee-874b-743a51aa12ed"
      },
      "outputs": [
        {
          "output_type": "stream",
          "name": "stdout",
          "text": [
            "Hello WORLD!\n"
          ]
        }
      ],
      "source": [
        "print(\"Hello WORLD!\")"
      ]
    },
    {
      "cell_type": "code",
      "source": [
        "inteiro = 5\n",
        "real = 3.14\n",
        "print(real)"
      ],
      "metadata": {
        "colab": {
          "base_uri": "https://localhost:8080/"
        },
        "id": "vKTYGrWB9WEA",
        "outputId": "04ae0f27-55a4-4f87-a660-cc37fd28a54c"
      },
      "execution_count": null,
      "outputs": [
        {
          "output_type": "stream",
          "name": "stdout",
          "text": [
            "3.14\n"
          ]
        }
      ]
    },
    {
      "cell_type": "markdown",
      "source": [
        "# Nova seção"
      ],
      "metadata": {
        "id": "kLuv2QRc-C7K"
      }
    },
    {
      "cell_type": "code",
      "source": [
        "inteiro = 5\n",
        "real = 3.14\n",
        "booleano = True"
      ],
      "metadata": {
        "id": "OX9ViOb5_RJo"
      },
      "execution_count": null,
      "outputs": []
    },
    {
      "cell_type": "code",
      "source": [
        "print(booleano)"
      ],
      "metadata": {
        "colab": {
          "base_uri": "https://localhost:8080/"
        },
        "id": "4-qLngw3_eOB",
        "outputId": "48306a4d-50f0-4c9d-cf7f-3442efd87246"
      },
      "execution_count": null,
      "outputs": [
        {
          "output_type": "stream",
          "name": "stdout",
          "text": [
            "True\n"
          ]
        }
      ]
    },
    {
      "cell_type": "code",
      "source": [
        "print(type(booleano))"
      ],
      "metadata": {
        "colab": {
          "base_uri": "https://localhost:8080/"
        },
        "id": "z8TrJfmy_j5W",
        "outputId": "d73b48ec-c755-4eb1-f0c2-2c65f7fbebd3"
      },
      "execution_count": null,
      "outputs": [
        {
          "output_type": "stream",
          "name": "stdout",
          "text": [
            "<class 'bool'>\n"
          ]
        }
      ]
    },
    {
      "cell_type": "code",
      "source": [
        "nome = input()"
      ],
      "metadata": {
        "colab": {
          "base_uri": "https://localhost:8080/"
        },
        "id": "4Ioxxr_XDDrL",
        "outputId": "e9289a20-8cda-44f6-f67d-7b9698b5d79c"
      },
      "execution_count": null,
      "outputs": [
        {
          "name": "stdout",
          "output_type": "stream",
          "text": [
            "davahgsh\n"
          ]
        }
      ]
    },
    {
      "cell_type": "markdown",
      "source": [
        "# LC | variáveis, entradas e Saídas \n",
        "# **Exercícios # aula1**\n"
      ],
      "metadata": {
        "id": "hjnjiTDvdfzM"
      }
    },
    {
      "cell_type": "markdown",
      "source": [
        "**Questão #1:** \n",
        "Faça um programa que mostre a mensagem \"Olá, mundo!\" na tela."
      ],
      "metadata": {
        "id": "rbOEDZQU9C8o"
      }
    },
    {
      "cell_type": "code",
      "source": [
        "print(\"olá, Mundo\")"
      ],
      "metadata": {
        "colab": {
          "base_uri": "https://localhost:8080/"
        },
        "id": "1B39j0Sy4XPD",
        "outputId": "2e61f204-b95d-45d0-d616-b3a8ca52bd48"
      },
      "execution_count": null,
      "outputs": [
        {
          "output_type": "stream",
          "name": "stdout",
          "text": [
            "olá, Mundo\n"
          ]
        }
      ]
    },
    {
      "cell_type": "markdown",
      "source": [
        "**Questão #2:**\n",
        "Faça um programa que peça um número e mostre a mensagem \"O número informado foi [número]\"."
      ],
      "metadata": {
        "id": "QCpWQreE9Q1E"
      }
    },
    {
      "cell_type": "code",
      "source": [
        "primeiraVariavel = 10\n",
        "print(' O número informado foi', primeiraVariavel)\n"
      ],
      "metadata": {
        "colab": {
          "base_uri": "https://localhost:8080/"
        },
        "id": "JHjt3K2f4vrp",
        "outputId": "dc8ba390-6b59-469a-d862-4a1ab4ac2118"
      },
      "execution_count": null,
      "outputs": [
        {
          "output_type": "stream",
          "name": "stdout",
          "text": [
            " O número informado foi 10\n"
          ]
        }
      ]
    },
    {
      "cell_type": "markdown",
      "source": [
        "**Questão #3:**\n",
        "Faça um programa que peça um número para o usuário (string), converta-o para float e depois imprima-o na tela. Você consegue fazer a mesma coisa, porém convertendo para int?"
      ],
      "metadata": {
        "id": "bbpGfC2o9rK8"
      }
    },
    {
      "cell_type": "code",
      "source": [
        "segundaVariavel = input('Digite o numero: ')\n",
        "recebeNumero = float(segundaVariavel)\n",
        "print(recebeNumero)"
      ],
      "metadata": {
        "colab": {
          "base_uri": "https://localhost:8080/"
        },
        "id": "DJ2tgFG57cq9",
        "outputId": "845d99c9-f413-465d-ac40-97b3110bbe3c"
      },
      "execution_count": null,
      "outputs": [
        {
          "output_type": "stream",
          "name": "stdout",
          "text": [
            "Digite o numero: 5\n",
            "5.0\n"
          ]
        }
      ]
    },
    {
      "cell_type": "code",
      "source": [
        "print(type(recebeNumero))"
      ],
      "metadata": {
        "colab": {
          "base_uri": "https://localhost:8080/"
        },
        "id": "2AnUKQaV8BzG",
        "outputId": "5ab22517-c515-40fd-acd2-40f6e4f32b33"
      },
      "execution_count": null,
      "outputs": [
        {
          "output_type": "stream",
          "name": "stdout",
          "text": [
            "<class 'float'>\n"
          ]
        }
      ]
    },
    {
      "cell_type": "code",
      "source": [
        "segundaVariavel = input('Digite o numero: ')\n",
        "recebeNumero = int(segundaVariavel)\n",
        "print(recebeNumero)"
      ],
      "metadata": {
        "colab": {
          "base_uri": "https://localhost:8080/"
        },
        "id": "L1AAdw3L8emA",
        "outputId": "66a7e4de-e2cf-4ce7-d69d-2224c15723e5"
      },
      "execution_count": null,
      "outputs": [
        {
          "output_type": "stream",
          "name": "stdout",
          "text": [
            "Digite o numero: 6\n",
            "6\n"
          ]
        }
      ]
    },
    {
      "cell_type": "code",
      "source": [
        "print(type(recebeNumero))"
      ],
      "metadata": {
        "colab": {
          "base_uri": "https://localhost:8080/"
        },
        "id": "hefqBl7K-Y0H",
        "outputId": "108b365e-f670-40ed-93fb-3ea7db99c0bc"
      },
      "execution_count": null,
      "outputs": [
        {
          "output_type": "stream",
          "name": "stdout",
          "text": [
            "<class 'int'>\n"
          ]
        }
      ]
    },
    {
      "cell_type": "markdown",
      "source": [
        "**Questão #4**: Faça um programa que peça dois números inteiros e imprima a soma deles."
      ],
      "metadata": {
        "id": "ZHNn_ZvC-jNy"
      }
    },
    {
      "cell_type": "code",
      "source": [
        "digitePrimeiroNumero  = int(input('Digite o primeiro número: '))\n",
        "digiteSegundoNumero = int(input(\"Digite o segundo número: \"))\n",
        "somaDosNumeros = digitePrimeiroNumero + digiteSegundoNumero\n",
        "print(\"A soma dos números é: \", somaDosNumeros)"
      ],
      "metadata": {
        "colab": {
          "base_uri": "https://localhost:8080/"
        },
        "id": "LlJCm12t9oTl",
        "outputId": "61dfda27-9a66-4cc6-ffba-fedb2bd7d5af"
      },
      "execution_count": null,
      "outputs": [
        {
          "output_type": "stream",
          "name": "stdout",
          "text": [
            "Digite o primeiro número: 5\n",
            "Digite o segundo número: 5\n",
            "A soma dos números é:  10\n"
          ]
        }
      ]
    },
    {
      "cell_type": "markdown",
      "source": [
        "**Questão #5:** Faça um programa que peça as 4 notas bimestrais de um aluno e mostre a média aritmética delas."
      ],
      "metadata": {
        "id": "dkKk4jcB_CW4"
      }
    },
    {
      "cell_type": "code",
      "source": [
        "primeiraNotaBimestre = float(input(\"Digite a primeira nota:\"))\n",
        "segundaNotaBimestre = float(input(\"Digite a segunda nota:\"))\n",
        "terceiraNotaBimestre = float(input(\"Digite a terceira nota:\"))\n",
        "quartaNotaBimestre = float(input(\"Digite a quarta nota:\"))\n",
        "\n",
        "somaAritmetica = primeiraNotaBimestre + segundaNotaBimestre + terceiraNotaBimestre + quartaNotaBimestre\n",
        "numeroBimestre = 4\n",
        "\n",
        "mediaAritmetica = somaAritmetica / numeroBimestre\n",
        "print(\"A média aritmética do bimestre é: \", mediaAritmetica)"
      ],
      "metadata": {
        "colab": {
          "base_uri": "https://localhost:8080/"
        },
        "id": "lktXZ1jm-tNz",
        "outputId": "9698e235-2821-4d71-80c9-8180cc5bde5c"
      },
      "execution_count": null,
      "outputs": [
        {
          "output_type": "stream",
          "name": "stdout",
          "text": [
            "Digite a primeira nota:8\n",
            "Digite a segunda nota:7.5\n",
            "Digite a terceira nota:8.2\n",
            "Digite a quarta nota:4.5\n",
            "A média aritmética do bimestre é:  7.05\n"
          ]
        }
      ]
    },
    {
      "cell_type": "code",
      "source": [
        ""
      ],
      "metadata": {
        "id": "06bCMq1T_z9-"
      },
      "execution_count": null,
      "outputs": []
    },
    {
      "cell_type": "markdown",
      "source": [
        "**Questão #6:** Faça um programa que peça o raio de um círculo, calcule e mostre sua área.\n",
        "\n",
        "Obs: Fórmula da área de um círculo: A = 3,14*(r**2), onde r é o raio."
      ],
      "metadata": {
        "id": "UzRnSxEp_dBB"
      }
    },
    {
      "cell_type": "code",
      "source": [
        "raioCirculo = float(input('Digite o raio do circulo: '))\n",
        "numeroPi =  3.14\n",
        "areaAbrangida = numeroPi * (raioCirculo ** 2)\n",
        "print('O cálculo da área calculada é', areaAbrangida)"
      ],
      "metadata": {
        "colab": {
          "base_uri": "https://localhost:8080/"
        },
        "id": "pypSiBAfBwdY",
        "outputId": "693fd3ef-0e46-4a4e-9e86-5a0b7541f70b"
      },
      "execution_count": null,
      "outputs": [
        {
          "output_type": "stream",
          "name": "stdout",
          "text": [
            "Digite o raio do circulo: 4\n",
            "O cálculo da área calculada é 50.24\n"
          ]
        }
      ]
    },
    {
      "cell_type": "markdown",
      "source": [
        "**Questão #7:** Faça um programa que pergunte quanto você ganha por hora e o número de horas trabalhadas no mês e depois, calcule e mostre o total do seu salário no referido mês."
      ],
      "metadata": {
        "id": "TR7ph5cC_-gx"
      }
    },
    {
      "cell_type": "code",
      "source": [
        "ganhoPorHora = float(input(\"Quanto você ganha por hora? \"))\n",
        "horastrabalhadas = float(input(\"Quantas horas você trabalhou esse mês?\"))\n",
        "totalSalarioMensal = ganhoPorHora * horastrabalhadas \n",
        "\n",
        "print(\"O total do seu salário a receber este é: \", \" R$\", totalSalarioMensal)\n",
        "\n"
      ],
      "metadata": {
        "colab": {
          "base_uri": "https://localhost:8080/"
        },
        "id": "BdQ9_g1lDRZB",
        "outputId": "bffe01d1-043c-43a8-88a6-23f69ce0c42d"
      },
      "execution_count": null,
      "outputs": [
        {
          "output_type": "stream",
          "name": "stdout",
          "text": [
            "Quanto você ganha por hora? 60\n",
            "Quantas horas você trabalhou esse mês?6\n",
            "O total do seu salário a receber este é:   R$ 360.0\n"
          ]
        }
      ]
    },
    {
      "cell_type": "markdown",
      "source": [
        "**Questão #8:** Faça um programa que peça a temperatura em graus Fahrenheit (F), transforme e mostre a temperatura em graus Celsius (°C).\n",
        "\n",
        "°C = (5 * (F-32) / 9)\n",
        "\n",
        "Obs: Tente também fazer um programa que faça o inverso: peça a temperatura em graus Celsius e a transforme em graus Fahrenheit."
      ],
      "metadata": {
        "id": "nzT21n6dAKFW"
      }
    },
    {
      "cell_type": "code",
      "source": [
        "grauFahrenheit = float(input(\"Digite a temperatura em em fahrenheit(F)\"))\n",
        "transformarParaGrausCelsius = (5 * (grauFahrenheit - 32) / 9)\n",
        "print(\"A temperatura em °C é: \", transformarParaGrausCelsius )"
      ],
      "metadata": {
        "colab": {
          "base_uri": "https://localhost:8080/"
        },
        "id": "6EHtYSb0Fohi",
        "outputId": "bebb23fe-10dc-44be-87ff-a6251d1f2d99"
      },
      "execution_count": null,
      "outputs": [
        {
          "output_type": "stream",
          "name": "stdout",
          "text": [
            "Digite a temperatura em em fahrenheit(F)80\n",
            "A temperatura em °C é:  26.666666666666668\n"
          ]
        }
      ]
    },
    {
      "cell_type": "markdown",
      "source": [
        "**Questão #9:** Faça um programa que peça o dia, o mês e o ano para o usuário e imprima a data completa no formato dd/mm/aaaa."
      ],
      "metadata": {
        "id": "loscefjgAUdt"
      }
    },
    {
      "cell_type": "code",
      "source": [
        "dia = int(input(\"Digite o dia: \"))\n",
        "mes = int(input(\"Digite o mês: \"))\n",
        "ano = int(input(\"Digite o ano: \"))\n",
        "print(\"A data completa é: \", dia,\"/\", mes,\"/\", ano )"
      ],
      "metadata": {
        "colab": {
          "base_uri": "https://localhost:8080/"
        },
        "id": "67DHck5aH41e",
        "outputId": "0532c831-6a99-47c3-c27f-828287ca3e99"
      },
      "execution_count": null,
      "outputs": [
        {
          "output_type": "stream",
          "name": "stdout",
          "text": [
            "Digite o dia: 21\n",
            "Digite o mês: 12\n",
            "Digite o ano: 2022\n",
            "A data completa é:  21 / 12 / 2022\n"
          ]
        }
      ]
    },
    {
      "cell_type": "markdown",
      "source": [
        "**Questão #10**: Faça um programa que peça 2 números inteiros e um número real, calcule e mostre:\n",
        "\n",
        "a) o produto do dobro do primeiro com metade do segundo.\n",
        "\n",
        "b) a soma do triplo do primeiro com o terceiro.\n",
        "\n",
        "c) o terceiro elevado ao cubo. "
      ],
      "metadata": {
        "id": "uFacwsRu4Gl-"
      }
    },
    {
      "cell_type": "code",
      "source": [
        "primeiroInteiro = int(input(\"Digite o primeiro número inteiro: \"))\n",
        "segundoInteiro = int(input(\"Digite o segundo número inteiro: \"))\n",
        "numeroReal = float(input(\"Digite o número real: \"))\n",
        "\n",
        "dobroPrimeiro = primeiroInteiro * 2\n",
        "segundoInteiroA = segundoInteiro / 2\n",
        "produtoQuestaoA = dobroPrimeiro * segundoInteiroA\n",
        "print(\"O produto do dobro do primeiro com metade do segundo, é: \", produtoQuestaoA)\n",
        "\n",
        "somaTriplo = primeiroInteiro * 3\n",
        "somaQuestaoB = somaTriplo + numeroReal\n",
        "print(\"A soma do triplo do primeiro com o terceiro é : \", somaQuestaoB)\n",
        "\n",
        "terceiroAoCubo = numeroReal ** 3\n",
        "print(\"O número real digitado ao cubo é: \",terceiroAoCubo)\n",
        "\n",
        "\n"
      ],
      "metadata": {
        "colab": {
          "base_uri": "https://localhost:8080/"
        },
        "id": "uEH9tuZvMPek",
        "outputId": "9d837d6e-6991-4476-c534-1b0760c3516c"
      },
      "execution_count": null,
      "outputs": [
        {
          "output_type": "stream",
          "name": "stdout",
          "text": [
            "Digite o primeiro número inteiro: 2\n",
            "Digite o segundo número inteiro: 4\n",
            "Digite o número real: 6.2\n",
            "O produto do dobro do primeiro com metade do segundo, é:  8.0\n",
            "A soma do triplo do primeiro com o terceiro é :  12.2\n",
            "O número real digitado ao cubo é:  238.32800000000003\n"
          ]
        }
      ]
    },
    {
      "cell_type": "markdown",
      "source": [
        "**Questão #11:** Faça um programa que peça o peso e altura de uma pessoa e calcule seu IMC (Índice de Massa Corporal).\n",
        "\n",
        "Obs: IMC = Peso/Altura**2"
      ],
      "metadata": {
        "id": "Jh04lcKaArFr"
      }
    },
    {
      "cell_type": "code",
      "source": [
        "peso = float(input(\"DIgite o seu peso: \"))\n",
        "altura = float(input(\"digite sua altura: \"))\n",
        "\n",
        "calculoImc = (peso / (altura ** 2))\n",
        "print(calculoImc)\n",
        "\n"
      ],
      "metadata": {
        "colab": {
          "base_uri": "https://localhost:8080/"
        },
        "id": "6RoELS6aWPSR",
        "outputId": "8bf59855-5e72-49aa-e283-3f1027f55170"
      },
      "execution_count": null,
      "outputs": [
        {
          "output_type": "stream",
          "name": "stdout",
          "text": [
            "DIgite o seu peso: 64\n",
            "digite sua altura: 160\n",
            "0.0025\n"
          ]
        }
      ]
    },
    {
      "cell_type": "markdown",
      "source": [
        "**Questão #12:** Faça um programa que peça um valor monetário e aumente-o em 15%. Seu programa deve imprimir a mensagem “O novo valor é [valor]”."
      ],
      "metadata": {
        "id": "S7n3qSbMAzh_"
      }
    },
    {
      "cell_type": "code",
      "source": [
        "valorMonetario = float(input(\"Digite o valor a ser calculado: R$ \"))\n",
        "\n",
        "porcentagem = valorMonetario  * 0.15\n",
        "\n",
        "descontoQuinze = porcentagem + valorMonetario\n",
        "\n",
        "\n",
        "print(\"O valor monetário acrescido de 15% é : R$\", descontoQuinze)"
      ],
      "metadata": {
        "colab": {
          "base_uri": "https://localhost:8080/"
        },
        "id": "Ynz8WMlUXfD_",
        "outputId": "7acaabcb-b666-4e1c-a8fc-b8dbf2a9c33b"
      },
      "execution_count": null,
      "outputs": [
        {
          "output_type": "stream",
          "name": "stdout",
          "text": [
            "Digite o valor a ser calculado: R$ 500\n",
            "O valor monetário acrescido de 15% é : R$ 575.0\n"
          ]
        }
      ]
    },
    {
      "cell_type": "markdown",
      "source": [
        "**Questão #13:** Faça um programa que peça um valor monetário e diminua-o em 15%. Seu programa deve imprimir a mensagem “O novo valor é [valor]”."
      ],
      "metadata": {
        "id": "dThOqqeXBCWn"
      }
    },
    {
      "cell_type": "code",
      "source": [
        "valorMonetario = float(input(\"Digite o valor a ser calculado: R$ \"))\n",
        "\n",
        "porcentagem = valorMonetario  * 0.15\n",
        "\n",
        "descontoQuinze = valorMonetario -  porcentagem\n",
        "\n",
        "\n",
        "print(\"O novo valor é : R$\", descontoQuinze)"
      ],
      "metadata": {
        "colab": {
          "base_uri": "https://localhost:8080/"
        },
        "id": "2ioEDUwQa6dU",
        "outputId": "22d76f11-4125-4ed7-bd95-67e1f7c33146"
      },
      "execution_count": null,
      "outputs": [
        {
          "output_type": "stream",
          "name": "stdout",
          "text": [
            "Digite o valor a ser calculado: R$ 500\n",
            "O novo valor é : R$ 425.0\n"
          ]
        }
      ]
    },
    {
      "cell_type": "markdown",
      "source": [
        "**Questão #14 | Desafio 1** - Peça para o usuário digitar uma *velocidade inicial* (em m/s), uma *posição inicial* (em m) e um *instante de tempo* (em s) e imprima a *posição de um projétil* nesse instante de tempo.\n",
        "\n",
        "Use a fórmula matemática:\n",
        "\n",
        "y(t) = y(0) + v(0)*t + (g*(t**2)/2)\n",
        "\n",
        "Onde, g é a aceleração da gravidade (-10m/s²), y(t) é a posição final, y(0) é a posição inicial, v(0) é a velocidade inicial e t é o instante de tempo."
      ],
      "metadata": {
        "id": "xY1iEl4EBMK8"
      }
    },
    {
      "cell_type": "code",
      "source": [
        "posicaoInicial = float(input(\"Digite a posição inicial: m=\"))\n",
        "velocidadeInicial = float(input(\"Digite a velocidade inicial: m/s=\"))\n",
        "instanteDeTempo = float(input(\"Digite o instante de tempo: s=\"))\n",
        "#Fórmula matemática y(t) = y(0) + v(0)t + (g(t**2)/2)\n",
        "\n",
        "aceleracaoGravitacional = (10 ** 2) #(instanteDeTempo ** 2) / 2)\n",
        "\n",
        "posicaoFinal = posicaoInicial + (velocidadeInicial * instanteDeTempo) + ((aceleracaoGravitacional * (instanteDeTempo ** 2)) / 2)\n",
        "\n",
        "print(\"A posição de um projétil nesse instante de tempo, é: \", posicaoFinal)\n",
        "\n"
      ],
      "metadata": {
        "id": "ZXqSwe69byBR",
        "colab": {
          "base_uri": "https://localhost:8080/"
        },
        "outputId": "f8af6a81-e4fc-42d1-e069-b513a973e4c2"
      },
      "execution_count": null,
      "outputs": [
        {
          "output_type": "stream",
          "name": "stdout",
          "text": [
            "Digite a posição inicial: m=25\n",
            "Digite a velocidade inicial: m/s=5\n",
            "Digite o instante de tempo: s=10\n",
            "A posição de um projétil nesse instante de tempo, é:  5075.0\n"
          ]
        }
      ]
    },
    {
      "cell_type": "markdown",
      "source": [
        "**Questão #15 | Desafio 2** - Faça um programa que informe a data e a hora para o usuário. Para isso use a função datetime.now() do módulo datetime."
      ],
      "metadata": {
        "id": "Ta2Hgj5PB2QS"
      }
    },
    {
      "cell_type": "markdown",
      "source": [
        ""
      ],
      "metadata": {
        "id": "yxNNG9QrCXSk"
      }
    },
    {
      "cell_type": "code",
      "source": [
        "\n",
        "import datetime"
      ],
      "metadata": {
        "id": "eiR0UB0mgSIf"
      },
      "execution_count": 29,
      "outputs": []
    },
    {
      "cell_type": "code",
      "source": [
        "informarHora = input(\"Gostaria de saber a data e a hora? é simples: digite S (maiúscula) \")\n",
        "tempoHora = datetime.datetime.now()\n",
        "if informarHora == \"S\":\n",
        "  print(\"Data e hora atualizados: \", tempoHora)\n",
        "else : print(\"Erro!...para saber a data e a hora digite apenas a letra S (maiúscula)\")\n",
        "\n",
        "\n",
        "\n",
        "\n"
      ],
      "metadata": {
        "colab": {
          "base_uri": "https://localhost:8080/"
        },
        "id": "A57TR-EEnAkr",
        "outputId": "1664e49a-df81-49d3-b16a-45e4f9ef7420"
      },
      "execution_count": 51,
      "outputs": [
        {
          "output_type": "stream",
          "name": "stdout",
          "text": [
            "Gostaria de saber a data e a hora? é simples: digite S (maiúscula) S\n",
            "Data e hora atualizados:  2022-08-19 20:42:23.235152\n"
          ]
        }
      ]
    }
  ]
}